{
 "cells": [
  {
   "cell_type": "markdown",
   "metadata": {},
   "source": [
    "# Python"
   ]
  },
  {
   "cell_type": "markdown",
   "metadata": {},
   "source": [
    "* In python:\n",
    "    * `4 / 3` would be `1.3333` and would be a `float`\n",
    "    * `4 // 3` would be `1` and would be an `int`\n",
    "    * `3 ** 9 ** (6 / 3)` would be `27` and an `int`\n",
    "        * `3 ** 9 ** (0.5) == 3 ** 3` = `27`"
   ]
  },
  {
   "cell_type": "code",
   "execution_count": 1,
   "metadata": {},
   "outputs": [
    {
     "name": "stdout",
     "output_type": "stream",
     "text": [
      "1.3333333333333333\n",
      "<class 'float'>\n",
      "1\n",
      "<class 'int'>\n",
      "27.0\n",
      "<class 'float'>\n"
     ]
    }
   ],
   "source": [
    "print(4/3)\n",
    "print(type(4/3))\n",
    "\n",
    "print(4//3)\n",
    "print(type(4//3))\n",
    "\n",
    "print(3**9**(3/6))\n",
    "print(type(3**9**(3/6)))"
   ]
  },
  {
   "cell_type": "markdown",
   "metadata": {},
   "source": [
    "##### 2 Ways to run Python w/ VS Code + Docker Container\n",
    "1. Running vscode as an editor only\n",
    "    * Run your code in the containers bash shell\n",
    "    * e.g. \n",
    "        * `$ python pa1.py`\n",
    "        * `$ pytest --verbose pa1.py`\n",
    "2. Running vscode as an IDE (Integrated Develop Enviroment)\n",
    "    * Use remote containers extension to attach vscode to the anaconda3/cpsc322 container\n",
    "    * cd to a directory in the container or \"open folder\"\n",
    "    * Run python code\n",
    "        * Shortcut or play button\n",
    "        * integrated terminal and run the commands earlier for option 1"
   ]
  },
  {
   "cell_type": "markdown",
   "metadata": {},
   "source": [
    "Ultimate Goal of Docker:  \n",
    "*Reproducibility*"
   ]
  }
 ],
 "metadata": {
  "interpreter": {
   "hash": "d4d1e4263499bec80672ea0156c357c1ee493ec2b1c70f0acce89fc37c4a6abe"
  },
  "kernelspec": {
   "display_name": "Python 3.9.7 64-bit ('base': conda)",
   "language": "python",
   "name": "python3"
  },
  "language_info": {
   "codemirror_mode": {
    "name": "ipython",
    "version": 3
   },
   "file_extension": ".py",
   "mimetype": "text/x-python",
   "name": "python",
   "nbconvert_exporter": "python",
   "pygments_lexer": "ipython3",
   "version": "3.9.7"
  },
  "orig_nbformat": 4
 },
 "nbformat": 4,
 "nbformat_minor": 2
}
