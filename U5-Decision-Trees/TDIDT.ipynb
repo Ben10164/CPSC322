{
 "cells": [
  {
   "cell_type": "markdown",
   "metadata": {},
   "source": [
    "### Basic TDIT Approach (uses recursion):\n",
    "* At each step, pick an attribute (\"attribute selection\")\n",
    "* Partition data by attribute values ... this creates pairwise disjoint partitions\n",
    "* Repeat until one of the following occurs (base cases):\n",
    "    1. Partition has only class labels that are the same ... no clashes, make a leaf node\n",
    "    2. No more attributes to partition ... reached the end of a branch and there may be clashes, see options below\n",
    "    3. No more instances to partition ... see options below\n",
    "        * Assume we have the following:  \n",
    "        <img src=\"figures/decision_tree_one_attr.png\" width=\"300\"/>\n",
    "        * Where the partition for att1=v1 has many instances\n",
    "        * But the partition for att1=v2 has no instances\n",
    "        * What are our options?\n",
    "            1. Do Nothing: Leave value out of tree (creates incomplete decision tree)\n",
    "            2. Backtrack: replace Attribute 1 node with leaf node (possibly w/clashes, see options below)\n",
    "        * For the first choice, we won't be able to classify all instances\n",
    "        * We also need to know the possible attribute values ahead of time\n",
    "\n",
    "#### Handling Clashes for Prediction\n",
    "1. \"Majority Voting\"... select the class with highest number of instances\n",
    "    * On ties, \"flip a coin\"... which for ease of reproducibility could simply be choosing the first label alphabetically\n",
    "2. \"Intuition\"... that is, use common sense and pick one (hand modify tree)\n",
    "3. \"Discard\"... remove the branch from the node above\n",
    "    * Similar to case 3 above\n",
    "    * Results in \"missing\" attribute combos (some instances can't be classified)\n",
    "    * e.g., just remove two 50/50 branches from iPhone example tree\n",
    "    \n",
    "#### Summary: TDIDT Algorithm (w/backtracking and majority voting)\n",
    "1. At each step, select an attribute to split on (“attribute selection” e.g. random, takefirst, takelast, entropy, gini, etc.)\n",
    "1. Group the data by attribute domain... (e.g. create pairwise disjoint partitions)\n",
    "1. For each partition, repeat unless one of the following occurs (base cases):\n",
    "    1. CASE 1: All class labels of the partition are the same (e.g. no clashes)\n",
    "        * => create a leaf node\n",
    "    1. CASE 2: No more attributes to split on (e.g. clash)\n",
    "        * => handle the clash with a majority vote leaf node\n",
    "    1. CASE 3: No more instances to partition (e.g. empty partition)\n",
    "        * => backtrack and replace subtree with majority vote leaf node"
   ]
  },
  {
   "cell_type": "markdown",
   "metadata": {},
   "source": [
    "# NOTE:\n",
    "for PA6, when we are randomly selecting which attribute to pick on a 50/50 split, we will chose the higher alphabetical value:\n",
    "* e.g. 50% yes, 50% no, pick no because no is alphabetically first"
   ]
  }
 ],
 "metadata": {
  "interpreter": {
   "hash": "5f8c5c8ab154ffd7b7cf769370d90abd279d12a3d937a702f83e9fc02204b3d3"
  },
  "kernelspec": {
   "display_name": "Python 3.9.10 ('base')",
   "language": "python",
   "name": "python3"
  },
  "language_info": {
   "codemirror_mode": {
    "name": "ipython",
    "version": 3
   },
   "file_extension": ".py",
   "mimetype": "text/x-python",
   "name": "python",
   "nbconvert_exporter": "python",
   "pygments_lexer": "ipython3",
   "version": "3.9.10"
  },
  "orig_nbformat": 4
 },
 "nbformat": 4,
 "nbformat_minor": 2
}
