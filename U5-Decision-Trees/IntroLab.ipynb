{
 "cells": [
  {
   "cell_type": "markdown",
   "metadata": {},
   "source": [
    "### Lab Task 1\n",
    "An example for the iphone prediction example. iPhone Purchases (Fake) dataset:\n",
    "\n",
    "|standing |job_status |credit_rating |buys_iphone|\n",
    "|-|-|-|-|\n",
    "|1 |3 |fair |no|\n",
    "|1 |3 |excellent |no|\n",
    "|2 |3 |fair |yes|\n",
    "|2 |2 |fair |yes|\n",
    "|2 |1 |fair |yes|\n",
    "|2 |1 |excellent |no|\n",
    "|2 |1 |excellent |yes|\n",
    "|1 |2 |fair |no|\n",
    "|1 |1 |fair |yes|\n",
    "|2 |2 |fair |yes|\n",
    "|1 |2 |excellent |yes|\n",
    "|2 |2 |excellent |yes|\n",
    "|2 |3 |fair |yes|\n",
    "|2 |2 |excellent |no|\n",
    "|2 |3 |fair |yes|"
   ]
  },
  {
   "cell_type": "code",
   "execution_count": 4,
   "metadata": {},
   "outputs": [],
   "source": [
    "headers = ['standing', 'job_status', 'credit_rating', 'buys_iphone']\n",
    "data = [\n",
    "    [1, 3, 'fair', 'no'],\n",
    "    [1, 3, 'excellent', 'no'],\n",
    "    [2, 3, 'fair', 'yes'],\n",
    "    [2, 2, 'fair', 'yes'],\n",
    "    [2, 1, 'fair', 'yes'],\n",
    "    [2, 1, 'excellent', 'no'],\n",
    "    [2, 1, 'excellent', 'yes'],\n",
    "    [1, 2, 'fair', 'no'],\n",
    "    [1, 1, 'fair', 'yes'],\n",
    "    [2, 2, 'fair', 'yes'],\n",
    "    [1, 2, 'excellent', 'yes'],\n",
    "    [2, 2, 'excellent', 'yes'],\n",
    "    [2, 3, 'fair', 'yes'],\n",
    "    [2, 2, 'excellent', 'no'],\n",
    "    [2, 3, 'fair', 'yes'],\n",
    "]"
   ]
  },
  {
   "cell_type": "markdown",
   "metadata": {},
   "source": [
    "### Task 1: Does the iPhone dataset have any clashes?"
   ]
  },
  {
   "cell_type": "code",
   "execution_count": 5,
   "metadata": {},
   "outputs": [],
   "source": [
    "# Yes:\n",
    "#   5 and 6 have the same standing, job_status and credit_rating, yet differ in buys_iphone.\n",
    "#   11 and 13 have the same standing, job_status and credit_rating, yet differ in buys_iphone."
   ]
  },
  {
   "cell_type": "markdown",
   "metadata": {},
   "source": [
    "### Task 2: Extract the rules from the following decision tree:"
   ]
  },
  {
   "cell_type": "markdown",
   "metadata": {},
   "source": [
    "<img src=\"figures/iphone_decision_tree_example.png\" width=\"850\"/>"
   ]
  },
  {
   "cell_type": "markdown",
   "metadata": {},
   "source": [
    "```py\n",
    "# the leftmost branch\n",
    "if job_status == 1 and standing == 1:\n",
    "    buys_iphone = 'yes'\n",
    "\n",
    "# a middle branch\n",
    "if job_staus == 3 and credit_rating == fair and standing == 2:\n",
    "    buys_iphone = 'yes'\n",
    "```\n",
    "note: the ones that have percentages are the clashes"
   ]
  },
  {
   "cell_type": "markdown",
   "metadata": {},
   "source": [
    "### Task 3: Using the above tree, predict the class labels for:\n",
    "* $X_1$ = [standing = 2, job_status = 2, credit_raiting = fair]\n",
    "* $X_2$ = [standing = 1, job_status = 1, credit_raiting = excellent]"
   ]
  },
  {
   "cell_type": "markdown",
   "metadata": {},
   "source": [
    "* $X_1$ buys_iphone = yes\n",
    "* $X_2$ buys_iphone = yes"
   ]
  },
  {
   "cell_type": "markdown",
   "metadata": {},
   "source": [
    "### Task 4: Use TDIDT to create a decision tree fo the iPhone example data. Randomly select attributes as your \"attribute selection\" approach."
   ]
  },
  {
   "cell_type": "markdown",
   "metadata": {},
   "source": [
    "1. we chose standing randomly\n",
    "2. group the data by attribute domain... 1 and 2 for standing\n",
    "3. for each partition, check our base casses\n",
    "    1. all class labels are the same\n",
    "        * NOPE!\n",
    "    2. no more attributes to split on\n",
    "        * NOPE!\n",
    "    3. is the partition empty\n",
    "        * NOPE!\n",
    "    * none of the base cases match, so we repeat\n",
    "\n",
    "4. we selected job status randomly\n",
    "5. group the data by attribute domain... 1 and 2 and 3 for job_status\n",
    "6. for each partition, check our base casses\n",
    "    * we have a SINGLE scenario where standing == 1 and job_status == 1\n",
    "        * make a final leaf node\n",
    "\n",
    "7. finish that stuff\n",
    "8. in class we rolled a job)status for the right side of standing"
   ]
  },
  {
   "cell_type": "code",
   "execution_count": 6,
   "metadata": {},
   "outputs": [],
   "source": [
    "def In_Class_TDIDT(standing, job_status, credit_rating):\n",
    "    buys_iphone = 'temp'\n",
    "    if standing == 1: # left part\n",
    "        # we selected to do job_status next randomly \n",
    "        if job_status == 1:# left part\n",
    "            buys_iphone = 'yes'# base case\n",
    "        elif job_status == 2:# middle part\n",
    "            # there is no base case, so we split on credit_rating\n",
    "            if credit_rating == 'fair':\n",
    "                buys_iphone = 'no'# base case\n",
    "            elif credit_rating == 'excellent':\n",
    "                buys_iphone = 'yes' # base case\n",
    "        elif job_status == 3: # right part\n",
    "            buys_iphone = 'no' # base case\n",
    "    elif standing == 2:# right part\n",
    "        # we selected to do job_status next randomly \n",
    "        if job_status == 1:# left part\n",
    "            # there is no base case, so we split on credit_rating\n",
    "            if credit_rating == 'fair':\n",
    "                buys_iphone = 'yes'# base case\n",
    "            elif credit_rating == 'excellent':\n",
    "                # we have a clash!            \n",
    "                # to be consistent, in class we will chose the alphabetically first option\n",
    "                buys_iphone = 'no'\n",
    "        elif job_status == 2:# middle part\n",
    "            # there is no base case, so we split on credit_rating\n",
    "            if credit_rating == 'fair':\n",
    "                buys_iphone = 'yes' # base case\n",
    "            elif credit_rating == 'excellent':\n",
    "                # we have a clash!\n",
    "                # to be consistent, in class we will chose the alphabetically first option\n",
    "                buys_iphone = 'no'\n",
    "        elif job_status == 3:# right part\n",
    "            buys_iphone = 'yes' # base case\n",
    "    return buys_iphone"
   ]
  },
  {
   "cell_type": "markdown",
   "metadata": {},
   "source": [
    "### Task 5: Using the tree from the previous step, predict the class labels for:\n",
    "* $X_1$ = [standing = 2, job_status = 2, credit_raiting = fair]\n",
    "* $X_2$ = [standing = 1, job_status = 1, credit_raiting = excellent]"
   ]
  },
  {
   "cell_type": "code",
   "execution_count": 9,
   "metadata": {},
   "outputs": [
    {
     "name": "stdout",
     "output_type": "stream",
     "text": [
      "X1 prediction is yes\n",
      "X2 prediction is yes\n"
     ]
    }
   ],
   "source": [
    "X1 = In_Class_TDIDT(2,2,'fair')\n",
    "X2 = In_Class_TDIDT(1,1,'excellent')\n",
    "print(\"X1 prediction is {}\".format(X1))\n",
    "print(\"X2 prediction is {}\".format(X2))"
   ]
  }
 ],
 "metadata": {
  "interpreter": {
   "hash": "d4d1e4263499bec80672ea0156c357c1ee493ec2b1c70f0acce89fc37c4a6abe"
  },
  "kernelspec": {
   "display_name": "Python 3.9.7 ('base')",
   "language": "python",
   "name": "python3"
  },
  "language_info": {
   "codemirror_mode": {
    "name": "ipython",
    "version": 3
   },
   "file_extension": ".py",
   "mimetype": "text/x-python",
   "name": "python",
   "nbconvert_exporter": "python",
   "pygments_lexer": "ipython3",
   "version": "3.9.7"
  },
  "orig_nbformat": 4
 },
 "nbformat": 4,
 "nbformat_minor": 2
}
