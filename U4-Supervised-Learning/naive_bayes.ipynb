{
 "cells": [
  {
   "cell_type": "markdown",
   "metadata": {},
   "source": [
    "#### Probability Basics\n",
    "* probability is in [0,1]\n",
    "* P(A) probability of event A occuring\n",
    "    * ex/ p(drawing an Ace) = 4/52\n",
    "* P(A|B) probability of event A occuring <u>given</u> event B occured\n",
    "    * ex/ (drawing an ace | drew an ace w/o replacement) = 3/51\n",
    "    * ex/ (drawing an ace | drew oan ace w/ replacement) = 4/52"
   ]
  },
  {
   "cell_type": "markdown",
   "metadata": {},
   "source": [
    "## Bayes Theorem\n",
    "* $p(A|B) = \\frac{A \\cap B}{p(B)} = \\frac{p(B|A)p(A)}{p(b)}$\n",
    "\n",
    "Our goal is to use this theorem to find the largest probability of a class label given a test instance"
   ]
  },
  {
   "cell_type": "markdown",
   "metadata": {},
   "source": [
    "##### Notation\n",
    "Find the largest $p(C_i | X)$  with $C_i$ being the ith class label, and $X$ is the test instance, $[V_1,V_2,...,V_n]$  \n",
    "$p(C_i|X) = \\frac{p(X|C_i) p(C_i)}{p(X)}$  but we can omit the demoninator $p(X)$ since it is a constant throughout the calculations  \n",
    "$p(C_i)$ is the number of instances with the label $C_i$ divided by the number of instances **IN THE TRAINING SET** (this is called a prior)  \n",
    "$p(X|C_i)$ is the problem child"
   ]
  },
  {
   "cell_type": "markdown",
   "metadata": {},
   "source": [
    "#### Ways to calculate $p(X|C_i)$\n",
    "1. w/o assuming conditional independance \n",
    "    * looking at all attribute values together\n",
    "    * plus looking at each $C_i$ label\n",
    "    * $p(X|C_i) = \\frac{p(att_1 = V_1 \\cap att_2 = V_2 ... \\cap att_n = V_n \\cap class = C_i}{P(C_i)}$\n",
    "    * this is really restrictive \n",
    "        * $P(X|C_i)$ is likely going to be very low, or even 0\n",
    "2. w/ assuming conditional independance \n",
    "    * assuming that the effects of an attribute on the class label are independant of other attributes\n",
    "    * this is the **Naive** part of the Naive Bayes, its just not realistic, but it works so yeah :)\n",
    "    * $P(X|C_i) = \\prod_{k=1}^{n} p(V_k|C_i) = p(att=V_i | C_i) * p(att_2 = V_2|C_i)... * p(att_n = V_n|C_i)$\n",
    "    \n",
    "     $$p(V_k|C_i) = \\frac{p(V_k \\cap C_i)}{p(C_i)}$$"
   ]
  }
 ],
 "metadata": {
  "interpreter": {
   "hash": "d4d1e4263499bec80672ea0156c357c1ee493ec2b1c70f0acce89fc37c4a6abe"
  },
  "kernelspec": {
   "display_name": "Python 3.9.7 ('base')",
   "language": "python",
   "name": "python3"
  },
  "language_info": {
   "name": "python",
   "version": "3.9.7"
  },
  "orig_nbformat": 4
 },
 "nbformat": 4,
 "nbformat_minor": 2
}
