{
 "cells": [
  {
   "cell_type": "markdown",
   "metadata": {},
   "source": [
    "predicted\n",
    "||win|lose|total\n",
    "|---|---|---|---|\n",
    "win|18|2|20\n",
    "lose|12|8|20\n",
    "total|30|10|20\n",
    "\n",
    "acc = $\\frac{(TP + TN)}{P+N}$   \n",
    "\n",
    "acc = $\\frac{18 + 8} {40} = 0.65 == 65\\%$"
   ]
  },
  {
   "cell_type": "markdown",
   "metadata": {},
   "source": [
    "### Multi-class classification\n",
    "\n",
    "||a|b|c|total|\n",
    "|---|---|---|---|---|\n",
    "a|$R_{}^{a}$|$R_{a}^{b}$|$R_{a}^{c}$|$R_{a}$|\n",
    "b|$R_{b}^{a}$|$R_{b}^{b}$|$R_{b}^{c}$|$R_{b}$\n",
    "c|$R_{c}^{a}$|$R_{c}^{b}$|$R_{c}^{c}$|$R_{c}$\n",
    "total|$R^{a}$|$R^{b}$|$R^{c}$|$R$"
   ]
  },
  {
   "cell_type": "markdown",
   "metadata": {},
   "source": [
    "![](images/full.png)"
   ]
  },
  {
   "cell_type": "markdown",
   "metadata": {},
   "source": [
    "1. 1st approach (percent correctly classified):\n",
    "    * (20 + 15 + 18 + 12) / (105) = 62%\n",
    "2. 2nd approach (average accuracy per label)\n",
    "    * dry:\n",
    "        * $TP = 20$\n",
    "        * $FN = 5$ \n",
    "        * $FP = 5$\n",
    "        * $TN (Total - TP - FN - FP) = 75$\n",
    "        * AccDry = $\\frac{TP + TN}{Total}$ = (20+75)/105\n",
    "            * could also be written as $\\frac{Total - (FN + FP)}{Total}$ = (105 - (5+5)) / 105\n"
   ]
  },
  {
   "cell_type": "markdown",
   "metadata": {},
   "source": [
    "![dry](images/dry.png)"
   ]
  },
  {
   "cell_type": "markdown",
   "metadata": {},
   "source": [
    "|name|acc|\n",
    "|-|-|\n",
    "|AccDry = $\\frac{TP + TN}{Total}$ |90.4%  \n",
    "|AccSharp = $\\frac{TP + TN}{Total}$ |81.1%  \n",
    "|AccModerate = $\\frac{TP + TN}{Total}$ |81.9%  \n",
    "|AccDull = $\\frac{TP + TN}{Total}$ |70.4%  \n",
    "|total| 80.95%"
   ]
  }
 ],
 "metadata": {
  "language_info": {
   "name": "python"
  },
  "orig_nbformat": 4
 },
 "nbformat": 4,
 "nbformat_minor": 2
}
