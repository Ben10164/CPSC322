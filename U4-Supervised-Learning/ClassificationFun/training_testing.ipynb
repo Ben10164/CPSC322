{
 "cells": [
  {
   "cell_type": "markdown",
   "metadata": {},
   "source": [
    "### How to generate training/testing data from a Dataset"
   ]
  },
  {
   "cell_type": "markdown",
   "metadata": {},
   "source": [
    "1. holdout method\n",
    "1. random subsampling\n",
    "1. k fold cross validation\n",
    "1. bootstrap mmethod"
   ]
  },
  {
   "cell_type": "markdown",
   "metadata": {},
   "source": [
    "1. holdout method\n",
    "    * you \"hold out\" some instances from the dataset for testing\n",
    "    * train on the remaining instances\n",
    "    * test on the held out instances\n",
    "    * e.g. test_size=2 -> hold out 2 instances \n",
    "    * **NOTE**: You want to shuffle the dataset first, just to be sure the test set is not biased *(also seed before)*"
   ]
  },
  {
   "cell_type": "markdown",
   "metadata": {},
   "source": [
    "2. random subsampling\n",
    "    * repeat the holdout method k tmes\n",
    "    * this is a different `k` from kNN\n",
    "        * so you can make a (kNN classifier with `k` = 3) on a (random subsampled dataset with `k` = 10)\n",
    "    * the accuracy is the average accuracy over the `k` holdout methods\n",
    "    * this removed the bias of the test set (see **note** above)\n",
    "    * for `k`:\n",
    "        * run holdout method"
   ]
  },
  {
   "cell_type": "markdown",
   "metadata": {},
   "source": [
    "3. k-fold cross validation\n",
    "    * more intentional about generating out the testing sets\n",
    "    * each instance is in the test set exactly one time\n",
    "    * create `k` folds (groups)\n",
    "    * for each fold in folds:\n",
    "        * hold out the fold for testing\n",
    "        * train on the remaining folds (folds - fold)\n",
    "    * accuracy is the (total correct) / (total predicted over **ALL** folds)"
   ]
  }
 ],
 "metadata": {
  "language_info": {
   "name": "python"
  },
  "orig_nbformat": 4
 },
 "nbformat": 4,
 "nbformat_minor": 2
}
