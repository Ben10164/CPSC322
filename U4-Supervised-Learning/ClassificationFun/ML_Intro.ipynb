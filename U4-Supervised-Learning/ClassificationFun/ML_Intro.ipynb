{
 "cells": [
  {
   "cell_type": "markdown",
   "metadata": {},
   "source": [
    "# Supervised Machine Learning"
   ]
  },
  {
   "cell_type": "markdown",
   "metadata": {},
   "source": [
    "* Labeled data\n",
    "    * The dataset has an attribute (typically the 'class') that you are interested in `predicting` for `unseen` instances\n",
    "        * Supervised ML:\n",
    "            * class attribute is categorical\n",
    "                * classification task `(e.g. day or night, yes or no)`\n",
    "            * class attribute is numeric\n",
    "                * regression task\n",
    "* Unlabeled data\n",
    "    * The dataset has no such attribute that we want to predict\n",
    "        * unsupervised ML"
   ]
  },
  {
   "cell_type": "markdown",
   "metadata": {},
   "source": [
    "## Game-plan for the rest of the semester\n",
    "|Supervised ML | Unsupervised ML|\n",
    "|-|-|\n",
    "|Simple linear regression classifier `(linear regressor + discretization)` (PA5)| \n",
    "|Simple kNN classifiers (PA5)| \n",
    "|Simple dummy classifier (PA5)|\n",
    "|Naive Beyes classifier (PA6)| \n",
    "|Decision tree classifier (PA7)| \n",
    "|Random forest classifier `(ensemble method)` (Project)|\n",
    "| | Association rule minor (PA8)|\n",
    "| | kMeans cluster (PA9)|"
   ]
  },
  {
   "cell_type": "markdown",
   "metadata": {},
   "source": [
    "## Regression Example\n",
    "$y = mx + b$  \n",
    "$m, b$ are parameters that define the regression model  \n",
    "- the model is \"built\" using training data  \n",
    "- the model is \"evaluated\" using testing data \n",
    "    - how good is it\n",
    "    - testing data is a set of \"unseen\" instances (the model has never seen these instances before)\n",
    "    \n",
    "Example (See U3-Data-Analysis/JupyterNotebookFun/MatplotlibExamples.ipynb)  \n",
    "$y=mx+b = 1.92x + 5.11$  \n",
    "test instance : x = 150  (150 was not in the training data)  \n",
    "$\\hat{y} - m(150) + b) = 1.92(150) + 5.11 =$?  \n",
    "$y_{actual}$ (ground truth label (value) $= 300$  \n",
    "error (residual = $\\hat{y} - y_{actual} = ...$"
   ]
  }
 ],
 "metadata": {
  "language_info": {
   "name": "python"
  },
  "orig_nbformat": 4
 },
 "nbformat": 4,
 "nbformat_minor": 2
}
