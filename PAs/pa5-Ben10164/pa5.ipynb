{
 "cells": [
  {
   "cell_type": "code",
   "execution_count": 98,
   "metadata": {},
   "outputs": [],
   "source": [
    "# some useful mysklearn package import statements and reloads\n",
    "import importlib\n",
    "\n",
    "import mysklearn.myutils\n",
    "importlib.reload(mysklearn.myutils)\n",
    "import mysklearn.myutils as myutils\n",
    "\n",
    "# uncomment once you paste your mypytable.py into mysklearn package\n",
    "import mysklearn.mypytable\n",
    "importlib.reload(mysklearn.mypytable)\n",
    "from mysklearn.mypytable import MyPyTable \n",
    "\n",
    "# uncomment once you paste your myclassifiers.py into mysklearn package\n",
    "import mysklearn.myclassifiers\n",
    "importlib.reload(mysklearn.myclassifiers)\n",
    "from mysklearn.myclassifiers import MyKNeighborsClassifier, MyDummyClassifier\n",
    "\n",
    "import mysklearn.myevaluation\n",
    "importlib.reload(mysklearn.myevaluation)\n",
    "import mysklearn.myevaluation as myevaluation\n",
    "\n",
    "from tabulate import tabulate\n"
   ]
  },
  {
   "cell_type": "code",
   "execution_count": 99,
   "metadata": {},
   "outputs": [],
   "source": [
    "infile_path = \"input_data/auto-data-removed-NA.txt\"\n",
    "auto_data = MyPyTable()\n",
    "auto_data.load_from_file(infile_path)\n",
    "auto_data.convert_to_numeric()"
   ]
  },
  {
   "cell_type": "code",
   "execution_count": 100,
   "metadata": {},
   "outputs": [],
   "source": [
    "# we need to predict the DOE mpg rating (index 0 to rating) using the number of cylinders (index 1), weight (index 4) and accel (5)\n",
    "\n",
    "# y\n",
    "y_raw = auto_data.get_column(\"0\")\n",
    "y = [[int(myutils.get_mpg_rating(y)) ]for y in y_raw]\n",
    "\n",
    "# X\n",
    "X = []\n",
    "for i in range(len(auto_data.data)):\n",
    "    row = []\n",
    "    row.append(auto_data.data[i][1]) # cylinders\n",
    "    row.append(auto_data.data[i][4]) # weight\n",
    "    row.append(auto_data.data[i][5]) # accel\n",
    "    X.append(row)\n",
    "\n",
    "# # convert it to int\n",
    "# X = []\n",
    "# for x_val in X_float:\n",
    "#     X.append([int(x_val)])"
   ]
  },
  {
   "cell_type": "code",
   "execution_count": 101,
   "metadata": {},
   "outputs": [],
   "source": [
    "# hnow we need to get the train/test sets from random \n",
    "# sub-sampling\n",
    "# 2:1 train/test\n",
    "X_train, X_test, y_train, y_test = myevaluation.train_test_split(X, y, test_size=0.33)"
   ]
  },
  {
   "cell_type": "code",
   "execution_count": 102,
   "metadata": {},
   "outputs": [],
   "source": [
    "knn_classifier = MyKNeighborsClassifier(10)\n",
    "knn_classifier.fit(X_train, y_train)\n",
    "\n",
    "knn_predicted = []\n",
    "for instance in X_test:\n",
    "    knn_predicted.append(knn_classifier.predict(instance)[0])\n",
    "\n",
    "kNN_accuracy = myevaluation.accuracy_score(y_test, knn_predicted)\n",
    "kNN_error_rate = myutils.error_rate(knn_predicted, y_test)\n",
    "\n",
    "# dummy classifier\n",
    "dummy = MyDummyClassifier()\n",
    "dummy.fit(X_train, y_train)\n",
    "y_predicted = dummy.predict(X_test)\n",
    "dummy_accuracy = myevaluation.accuracy_score(y_test, y_predicted)\n",
    "dummy_error_rate = myutils.error_rate(y_predicted, y_test)"
   ]
  },
  {
   "cell_type": "code",
   "execution_count": 103,
   "metadata": {},
   "outputs": [
    {
     "name": "stdout",
     "output_type": "stream",
     "text": [
      "\n",
      "===========================================\n",
      "STEP 1: Predictive Accuracy\n",
      "===========================================\n",
      "\n",
      "Random Subsample (k=10, 2:1 Train/Test)\n",
      "k Nearest Neighbors Classifier: accuracy = 0.3465346534653465 error rate = 0.6534653465346535\n",
      "Dummy Classifier: accuracy = 0.16831683168316833 error rate = 0.8316831683168316\n"
     ]
    }
   ],
   "source": [
    "# step 1 output cell\n",
    "print(\"\"\"\n",
    "===========================================\n",
    "STEP 1: Predictive Accuracy\n",
    "===========================================\n",
    "\"\"\")\n",
    "\n",
    "print(\"Random Subsample (k=10, 2:1 Train/Test)\")\n",
    "print(\"k Nearest Neighbors Classifier: accuracy =\",kNN_accuracy,\"error rate =\",kNN_error_rate)\n",
    "print(\"Dummy Classifier: accuracy =\",dummy_accuracy,\"error rate =\",dummy_error_rate)"
   ]
  },
  {
   "cell_type": "code",
   "execution_count": 104,
   "metadata": {},
   "outputs": [],
   "source": [
    "# step 2: Cross Validation\n",
    "X_train_indexes,X_test_indexes = myevaluation.kfold_cross_validation(X, 10)\n",
    "X_test_folds,X_train_folds,y_test_folds,y_train_folds = myutils.indexes_to_fold(X_test_indexes, X_train_indexes, X, y)\n",
    "X_test,X_train,y_test,y_train = myutils.folds_to_train_test(X_test_folds,X_train_folds,y_test_folds,y_train_folds)\n",
    "\n",
    "knn_classifier = MyKNeighborsClassifier(10)\n",
    "knn_classifier.fit(X_train, y_train)\n",
    "knn_predicted = []\n",
    "# knn_predicted = knn_classifier.predict(X_test)\n",
    "for instance in X_test:\n",
    "    knn_predicted.append(knn_classifier.predict(instance)[0])\n",
    "kNN_accuracy = myevaluation.accuracy_score(y_test, knn_predicted)\n",
    "kNN_error_rate = myutils.error_rate(knn_predicted, y_test)\n",
    "\n",
    "dummy = MyDummyClassifier()\n",
    "dummy.fit(X_train[i], y_train)\n",
    "y_predicted = dummy.predict(X_test)\n",
    "dummy_accuracy = myevaluation.accuracy_score(y_test, y_predicted)\n",
    "dummy_error_rate = myutils.error_rate(y_predicted, y_test)\n"
   ]
  },
  {
   "cell_type": "code",
   "execution_count": 105,
   "metadata": {},
   "outputs": [],
   "source": [
    "X_train_indexes,X_test_indexes = myevaluation.stratified_kfold_cross_validation(X, y, 10)\n",
    "X_test_folds,X_train_folds,y_test_folds,y_train_folds = myutils.indexes_to_fold(X_test_indexes, X_train_indexes, X, y)\n",
    "X_test,X_train,y_test,y_train = myutils.folds_to_train_test(X_test_folds,X_train_folds,y_test_folds,y_train_folds)\n",
    "\n",
    "knn_classifier = MyKNeighborsClassifier(10)\n",
    "knn_classifier.fit(X_train, y_train)\n",
    "strat_knn_predicted = []\n",
    "# knn_predicted = knn_classifier.predict(X_test)\n",
    "for instance in X_test:\n",
    "    strat_knn_predicted.append(knn_classifier.predict(instance)[0])\n",
    "strat_kNN_accuracy = myevaluation.accuracy_score(y_test, strat_knn_predicted)\n",
    "strat_kNN_error_rate = myutils.error_rate(strat_knn_predicted, y_test)\n",
    "\n",
    "dummy = MyDummyClassifier()\n",
    "dummy.fit(X_train, y_train)\n",
    "y_predicted = dummy.predict(X_test)\n",
    "strat_dummy_accuracy = myevaluation.accuracy_score(y_test, y_predicted)\n",
    "strat_dummy_error_rate = myutils.error_rate(y_predicted, y_test)"
   ]
  },
  {
   "cell_type": "code",
   "execution_count": 106,
   "metadata": {},
   "outputs": [
    {
     "name": "stdout",
     "output_type": "stream",
     "text": [
      "\n",
      "===========================================\n",
      "STEP 2: Predictive Accuracy\n",
      "===========================================\n",
      "\n",
      "10-Fold Cross Validation\n",
      "k Nearest Neighbors Classifier: accuracy = 1.0 error rate = 0.0\n",
      "Dummy Classifier: accuracy = 0.18688524590163935 error rate = 0.8131147540983606\n",
      "\n",
      "Stratified 10-Fold Cross Validation\n",
      "k Nearest Neighbors Classifier: accuracy = 1.0 error rate = 0.0\n",
      "Dummy Classifier: accuracy = 0.18688524590163935 error rate = 0.8131147540983606\n"
     ]
    }
   ],
   "source": [
    "# step 2 output cell\n",
    "print(\"\"\"\n",
    "===========================================\n",
    "STEP 2: Predictive Accuracy\n",
    "===========================================\n",
    "\"\"\")\n",
    "\n",
    "print(\"10-Fold Cross Validation\")\n",
    "print(\"k Nearest Neighbors Classifier: accuracy =\",kNN_accuracy,\"error rate =\",kNN_error_rate)\n",
    "print(\"Dummy Classifier: accuracy =\",dummy_accuracy,\"error rate =\",dummy_error_rate)\n",
    "print()\n",
    "print(\"Stratified 10-Fold Cross Validation\")\n",
    "print(\"k Nearest Neighbors Classifier: accuracy =\",strat_kNN_accuracy,\"error rate =\",strat_kNN_error_rate)\n",
    "print(\"Dummy Classifier: accuracy =\",strat_dummy_accuracy,\"error rate =\",strat_dummy_error_rate)"
   ]
  },
  {
   "cell_type": "code",
   "execution_count": 107,
   "metadata": {},
   "outputs": [],
   "source": [
    "# step 2: Bootstrap method\n",
    "X_train, X_test,y_train,y_test = myevaluation.bootstrap_sample(X,y,10)\n",
    "\n",
    "knn_classifier = MyKNeighborsClassifier(10)\n",
    "knn_classifier.fit(X_train, y_train)\n",
    "knn_predicted = []\n",
    "# knn_predicted = knn_classifier.predict(X_test)\n",
    "for instance in X_test:\n",
    "    knn_predicted.append(knn_classifier.predict(instance)[0])\n",
    "kNN_accuracy = myevaluation.accuracy_score(y_test, knn_predicted)\n",
    "kNN_error_rate = myutils.error_rate(knn_predicted, y_test)\n",
    "\n",
    "dummy = MyDummyClassifier()\n",
    "dummy.fit(X_train, y_train)\n",
    "y_predicted = dummy.predict(X_test)\n",
    "dummy_accuracy = myevaluation.accuracy_score(y_test, y_predicted)\n",
    "dummy_error_rate = myutils.error_rate(y_predicted, y_test)\n"
   ]
  },
  {
   "cell_type": "code",
   "execution_count": 108,
   "metadata": {},
   "outputs": [
    {
     "name": "stdout",
     "output_type": "stream",
     "text": [
      "\n",
      "===========================================\n",
      "STEP 3: Predictive Accuracy\n",
      "===========================================\n",
      "\n",
      "k=10 Bootstrap Method\n",
      "k Nearest Neighbors Classifier: accuracy = 0.3593220338983051 error rate = 0.6406779661016949\n",
      "Dummy Classifier: accuracy = 0.06779661016949153 error rate = 0.9322033898305084\n"
     ]
    }
   ],
   "source": [
    "# step 3 output cell\n",
    "print(\"\"\"\n",
    "===========================================\n",
    "STEP 3: Predictive Accuracy\n",
    "===========================================\n",
    "\"\"\")\n",
    "\n",
    "print(\"k=10 Bootstrap Method\")\n",
    "print(\"k Nearest Neighbors Classifier: accuracy =\",kNN_accuracy,\"error rate =\",kNN_error_rate)\n",
    "print(\"Dummy Classifier: accuracy =\",dummy_accuracy,\"error rate =\",dummy_error_rate)"
   ]
  },
  {
   "cell_type": "code",
   "execution_count": 123,
   "metadata": {},
   "outputs": [
    {
     "name": "stdout",
     "output_type": "stream",
     "text": [
      "Confusion Matrix:\n",
      "  MPG Ranking    1    2    3    4    5    6    7    8    9    10    Total    Recognition (%)\n",
      "-------------  ---  ---  ---  ---  ---  ---  ---  ---  ---  ----  -------  -----------------\n",
      "            0    0    0    0    0    0    0    0    0    0     0        0                  0\n",
      "            0    0    0    0    0    0    0    0    0    0     0        0                  0\n",
      "            0    0    0    0    0    0    0    0    0    0     0        0                  0\n",
      "            0    0    0    0    0    0    0    0    0    0     0        0                  0\n",
      "            0    0    0    0    0    0    0    0    0    0     0        0                  0\n",
      "            0    0    0    0    0    0    0    0    0    0     0        0                  0\n",
      "            0    0    0    0    0    0    0    0    0    0     0        0                  0\n",
      "            0    0    0    0    0    0    0    0    0    0     0        0                  0\n",
      "            0    0    0    0    0    0    0    0    0    0     0        0                  0\n",
      "            0    0    0    0    0    0    0    0    0    0     0        0                  0\n",
      "            0    0    0    0    0    0    0    0    0    0     0        0                  0\n",
      "            0    0    0    0    0    0    0    0    0    0     0        0                  0\n",
      "            0    0    0    0    0    0    0    0    0    0     0        0                  0\n"
     ]
    }
   ],
   "source": [
    "# step 4: Confussion Matricies\n",
    "matrix = myevaluation.confusion_matrix(y_test, knn_predicted,[\"MPG Ranking\", \"1\", \"2\", \"3\", \"4\", \"5\", \"6\", \"7\", \"8\", \"9\", \"10\",\"Total\",\"Recognition (%)\"])\n",
    "# use the tabulate module to print matrix\n",
    "print(\"Confusion Matrix:\")\n",
    "print(tabulate(matrix, headers=[\"MPG Ranking\", \"1\", \"2\", \"3\", \"4\", \"5\", \"6\", \"7\", \"8\", \"9\", \"10\",\"Total\",\"Recognition (%)\"]))"
   ]
  },
  {
   "cell_type": "code",
   "execution_count": null,
   "metadata": {},
   "outputs": [],
   "source": []
  }
 ],
 "metadata": {
  "kernelspec": {
   "display_name": "Python 3",
   "language": "python",
   "name": "python3"
  },
  "language_info": {
   "codemirror_mode": {
    "name": "ipython",
    "version": 3
   },
   "file_extension": ".py",
   "mimetype": "text/x-python",
   "name": "python",
   "nbconvert_exporter": "python",
   "pygments_lexer": "ipython3",
   "version": "3.9.7"
  }
 },
 "nbformat": 4,
 "nbformat_minor": 4
}
