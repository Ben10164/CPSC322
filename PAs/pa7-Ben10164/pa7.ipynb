{
 "cells": [
  {
   "cell_type": "code",
   "execution_count": 22,
   "metadata": {},
   "outputs": [],
   "source": [
    "# some useful mysklearn package import statements and reloads\n",
    "import importlib\n",
    "\n",
    "import mysklearn.myutils\n",
    "importlib.reload(mysklearn.myutils)\n",
    "import mysklearn.myutils as myutils\n",
    "\n",
    "# uncomment once you paste your mypytable.py into mysklearn package\n",
    "import mysklearn.mypytable\n",
    "importlib.reload(mysklearn.mypytable)\n",
    "from mysklearn.mypytable import MyPyTable \n",
    "\n",
    "# uncomment once you paste your myclassifiers.py into mysklearn package\n",
    "import mysklearn.myclassifiers\n",
    "importlib.reload(mysklearn.myclassifiers)\n",
    "from mysklearn.myclassifiers import MyKNeighborsClassifier, MyDummyClassifier, MyNaiveBayesClassifier, MyDecisionTreeClassifier\n",
    "\n",
    "import mysklearn.myevaluation\n",
    "importlib.reload(mysklearn.myevaluation)\n",
    "import mysklearn.myevaluation as myevaluation"
   ]
  },
  {
   "cell_type": "code",
   "execution_count": 23,
   "metadata": {},
   "outputs": [],
   "source": [
    "table = MyPyTable()\n",
    "table.load_from_file(\"input_data/tournament_games2016-2021.csv\")\n",
    "\n",
    "data = table.data\n",
    "header = table.column_names\n",
    "\n",
    "\n",
    "\n",
    "y = table.get_column(\"Winner\")\n",
    "X = [row[:-1] for row in data]\n"
   ]
  },
  {
   "cell_type": "markdown",
   "metadata": {},
   "source": [
    "Since each feature is categorical, you do not need to perform any discretization, etc. The following two steps below have you exploring different subsets. For each step, create a dummy, kNN, Naive Bayes, and decision tree classifier to predict the game winner. Test your classifier using stratified k-fold cross-validation (with k = 10). Format your results as per PA6 and compare your results using:\n",
    "1. Accuracy and error rate\n",
    "1. Precision, recall, and F1 measure\n",
    "1. Confusion matrices"
   ]
  },
  {
   "cell_type": "code",
   "execution_count": 24,
   "metadata": {},
   "outputs": [],
   "source": [
    "X_train_folds, X_test_folds = myevaluation.kfold_cross_validation(\n",
    "    X, 10, random_state=0)\n",
    "\n",
    "X_test_folds,X_train_folds,y_test_folds,y_train_folds = myutils.indexes_to_fold(X_test_folds, X_train_folds, X, y)\n",
    "X_test,X_train,y_test,y_train = myutils.folds_to_train_test(X_test_folds,X_train_folds,y_test_folds,y_train_folds)"
   ]
  },
  {
   "cell_type": "code",
   "execution_count": 25,
   "metadata": {},
   "outputs": [],
   "source": [
    "# dummy\n",
    "dummy_clf = mysklearn.myclassifiers.MyDummyClassifier()\n",
    "dummy_clf.fit(X_train, y_train)\n",
    "\n",
    "# naive bayes\n",
    "nb_clf = mysklearn.myclassifiers.MyNaiveBayesClassifier()\n",
    "nb_clf.fit(X_train, y_train)\n",
    "\n",
    "# decision tree\n",
    "dt_clf = mysklearn.myclassifiers.MyDecisionTreeClassifier()\n",
    "dt_clf.fit(X_train, y_train)\n"
   ]
  },
  {
   "cell_type": "code",
   "execution_count": 26,
   "metadata": {},
   "outputs": [],
   "source": [
    "dummy_X_predicted = dummy_clf.predict(X_test)\n",
    "\n",
    "nb_clf_X_predicted = nb_clf.predict(X_test)\n",
    "\n",
    "dt_clf_X_predicted = dt_clf.predict(X_test)"
   ]
  },
  {
   "cell_type": "code",
   "execution_count": 27,
   "metadata": {},
   "outputs": [
    {
     "name": "stdout",
     "output_type": "stream",
     "text": [
      "Dummy accuracy: 0.5239520958083832\n",
      "Naive Bayes accuracy: 0.47604790419161674\n",
      "Decision Tree accuracy: 1.0\n"
     ]
    }
   ],
   "source": [
    "dummy_accuracy = myevaluation.accuracy_score(y_test, dummy_X_predicted)\n",
    "print(\"Dummy accuracy:\", dummy_accuracy)\n",
    "\n",
    "nb_accuracy = myevaluation.accuracy_score(y_test, nb_clf_X_predicted)\n",
    "print(\"Naive Bayes accuracy:\", nb_accuracy)\n",
    "\n",
    "dt_accuracy = myevaluation.accuracy_score(y_test, dt_clf_X_predicted)\n",
    "print(\"Decision Tree accuracy:\", dt_accuracy)"
   ]
  },
  {
   "cell_type": "code",
   "execution_count": 28,
   "metadata": {},
   "outputs": [
    {
     "name": "stdout",
     "output_type": "stream",
     "text": [
      "Dummy precision: 0\n",
      "Dummy recall: 0\n",
      "Dummy f1: 0\n",
      "Naive Bayes precision: 0.47604790419161674\n",
      "Naive Bayes recall: 1.0\n",
      "Naive Bayes f1: 0.6450304259634888\n",
      "Decision Tree precision: 1.0\n",
      "Decision Tree recall: 1.0\n",
      "Decision Tree f1: 1.0\n"
     ]
    }
   ],
   "source": [
    "# precision recall f1\n",
    "dummy_precision = myevaluation.binary_precision_score(y_test, dummy_X_predicted)\n",
    "dummy_recall = myevaluation.binary_recall_score(y_test, dummy_X_predicted)\n",
    "dummy_f1 = myevaluation.binary_f1_score(y_test, dummy_X_predicted)\n",
    "print(\"Dummy precision:\", dummy_precision)\n",
    "print(\"Dummy recall:\", dummy_recall)\n",
    "print(\"Dummy f1:\", dummy_f1)\n",
    "\n",
    "nb_precision = myevaluation.binary_precision_score(y_test, nb_clf_X_predicted)\n",
    "nb_recall = myevaluation.binary_recall_score(y_test, nb_clf_X_predicted)\n",
    "nb_f1 = myevaluation.binary_f1_score(y_test, nb_clf_X_predicted)\n",
    "print(\"Naive Bayes precision:\", nb_precision)\n",
    "print(\"Naive Bayes recall:\", nb_recall)\n",
    "print(\"Naive Bayes f1:\", nb_f1)\n",
    "\n",
    "dt_precision = myevaluation.binary_precision_score(y_test, dt_clf_X_predicted)\n",
    "dt_recall = myevaluation.binary_recall_score(y_test, dt_clf_X_predicted)\n",
    "dt_f1 = myevaluation.binary_f1_score(y_test, dt_clf_X_predicted)\n",
    "print(\"Decision Tree precision:\", dt_precision)\n",
    "print(\"Decision Tree recall:\", dt_recall)\n",
    "print(\"Decision Tree f1:\", dt_f1)"
   ]
  }
 ],
 "metadata": {
  "kernelspec": {
   "display_name": "Python 3",
   "language": "python",
   "name": "python3"
  },
  "language_info": {
   "codemirror_mode": {
    "name": "ipython",
    "version": 3
   },
   "file_extension": ".py",
   "mimetype": "text/x-python",
   "name": "python",
   "nbconvert_exporter": "python",
   "pygments_lexer": "ipython3",
   "version": "3.9.7"
  }
 },
 "nbformat": 4,
 "nbformat_minor": 4
}
