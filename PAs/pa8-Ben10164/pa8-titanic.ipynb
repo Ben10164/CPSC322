{
 "cells": [
  {
   "cell_type": "code",
   "execution_count": 1,
   "metadata": {},
   "outputs": [],
   "source": [
    "# some useful mysklearn package import statements and reloads\n",
    "import importlib\n",
    "\n",
    "import mysklearn.myutils\n",
    "importlib.reload(mysklearn.myutils)\n",
    "import mysklearn.myutils as myutils\n",
    "\n",
    "# uncomment once you paste your mypytable.py into mysklearn package\n",
    "import mysklearn.mypytable\n",
    "importlib.reload(mysklearn.mypytable)\n",
    "from mysklearn.mypytable import MyPyTable \n",
    "\n",
    "import mysklearn.myruleminer\n",
    "importlib.reload(mysklearn.myruleminer)\n",
    "from mysklearn.myruleminer import MyAssociationRuleMiner"
   ]
  },
  {
   "cell_type": "markdown",
   "metadata": {},
   "source": [
    "Hi Grader!\n",
    "\n",
    "If you're reading this you are probably grading my assignment!  \n",
    "Hope I did better than awful, this assignment is definetly my worst yet.  \n",
    "I'm pretty swamped this week with 3 ***group*** final projects, so i've decided to settle with submitting an incomplete assignment so i can get back to working on those...   \n",
    "I guess that makes your grading easier, but I did do the mushroom and testing and all that, but just not this titatnic one. Sorry about that.\n",
    "\n",
    "Have a great day!"
   ]
  }
 ],
 "metadata": {
  "interpreter": {
   "hash": "d4d1e4263499bec80672ea0156c357c1ee493ec2b1c70f0acce89fc37c4a6abe"
  },
  "kernelspec": {
   "display_name": "Python 3.8.5 64-bit",
   "language": "python",
   "name": "python3"
  },
  "language_info": {
   "codemirror_mode": {
    "name": "ipython",
    "version": 3
   },
   "file_extension": ".py",
   "mimetype": "text/x-python",
   "name": "python",
   "nbconvert_exporter": "python",
   "pygments_lexer": "ipython3",
   "version": "3.9.7"
  },
  "orig_nbformat": 2
 },
 "nbformat": 4,
 "nbformat_minor": 2
}
