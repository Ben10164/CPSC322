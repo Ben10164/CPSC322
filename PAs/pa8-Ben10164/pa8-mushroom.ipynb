{
 "cells": [
  {
   "cell_type": "code",
   "execution_count": 80,
   "metadata": {},
   "outputs": [],
   "source": [
    "# some useful mysklearn package import statements and reloads\n",
    "import importlib\n",
    "\n",
    "import mysklearn.myutils\n",
    "importlib.reload(mysklearn.myutils)\n",
    "import mysklearn.myutils as myutils\n",
    "\n",
    "# uncomment once you paste your mypytable.py into mysklearn package\n",
    "import mysklearn.mypytable\n",
    "importlib.reload(mysklearn.mypytable)\n",
    "from mysklearn.mypytable import MyPyTable \n",
    "\n",
    "import mysklearn.myruleminer\n",
    "importlib.reload(mysklearn.myruleminer)\n",
    "from mysklearn.myruleminer import MyAssociationRuleMiner"
   ]
  },
  {
   "cell_type": "code",
   "execution_count": 81,
   "metadata": {},
   "outputs": [],
   "source": [
    "mushroom = MyPyTable().load_from_file(\"input_data/agaricus-lepiota.txt\")"
   ]
  },
  {
   "cell_type": "code",
   "execution_count": 82,
   "metadata": {},
   "outputs": [],
   "source": [
    "cols = []\n",
    "cols.append(mushroom.get_column(\"0\"))  # this is the class label\n",
    "# cols.append(mushroom.get_column(\"1\")) # cap-shape\n",
    "# cols.append(mushroom.get_column(\"4\")) # bruises\n",
    "# cols.append(mushroom.get_column(\"3\")) # cap-color\n",
    "cols.append(mushroom.get_column(\"20\")) # spore print color\n",
    "\n",
    "# data will be a list of lists\n",
    "# with the rows being the instances of cols\n",
    "data = []\n",
    "for i in range(len(cols[0])):\n",
    "    row = []\n",
    "    for j in range(len(cols)):\n",
    "        row.append(cols[j][i])\n",
    "    data.append(row)"
   ]
  },
  {
   "cell_type": "code",
   "execution_count": 83,
   "metadata": {},
   "outputs": [
    {
     "name": "stdout",
     "output_type": "stream",
     "text": [
      "IF h THEN p\n",
      "IF n THEN e\n"
     ]
    }
   ],
   "source": [
    "ruleminer = MyAssociationRuleMiner(0.25, 0.8)\n",
    "ruleminer.fit(data)\n",
    "\n",
    "ruleminer.print_association_rules()"
   ]
  },
  {
   "cell_type": "markdown",
   "metadata": {},
   "source": [
    "This is interesting because this means that if the spore print color is chocolate, then it is poiseness  \n",
    "This also shows that if the spore print color is brown it is edible  \n",
    "lets go into more detail on these two rules"
   ]
  },
  {
   "cell_type": "code",
   "execution_count": 84,
   "metadata": {},
   "outputs": [
    {
     "name": "stdout",
     "output_type": "stream",
     "text": [
      "{'lhs': 'h', 'rhs': 'p', 'confidence': 1.0, 'support': 0.2806520198440822}\n",
      "{'lhs': 'n', 'rhs': 'e', 'confidence': 0.8833333333333333, 'support': 0.30049610205527993}\n"
     ]
    }
   ],
   "source": [
    "detailed_rules = ruleminer.rules\n",
    "print(detailed_rules[0]) # wow the confidence is 1.0!!\n",
    "print(detailed_rules[1]) # wow the confidence is 0.88333...!!"
   ]
  },
  {
   "cell_type": "code",
   "execution_count": 85,
   "metadata": {},
   "outputs": [
    {
     "name": "stdout",
     "output_type": "stream",
     "text": [
      "IF h THEN p\n"
     ]
    }
   ],
   "source": [
    "cols.append(mushroom.get_column(\"3\")) # cap-color\n",
    "data = []\n",
    "for i in range(len(cols[0])):\n",
    "    row = []\n",
    "    for j in range(len(cols)):\n",
    "        row.append(cols[j][i])\n",
    "    data.append(row)\n",
    "\n",
    "ruleminer = MyAssociationRuleMiner(0.25, 0.8)\n",
    "ruleminer.fit(data)\n",
    "\n",
    "ruleminer.print_association_rules()"
   ]
  },
  {
   "cell_type": "markdown",
   "metadata": {},
   "source": [
    "obervations:\n",
    "* something that i noticed was how the more attributes i added, the less rules i got.\n",
    "    * e.g. when i added in the attribute of cap-color it removed the if n then e rule\n",
    "    * this is most likely because of some attributes sharing the same identifiable character \n",
    "    "
   ]
  }
 ],
 "metadata": {
  "interpreter": {
   "hash": "d4d1e4263499bec80672ea0156c357c1ee493ec2b1c70f0acce89fc37c4a6abe"
  },
  "kernelspec": {
   "display_name": "Python 3.8.5 64-bit",
   "language": "python",
   "name": "python3"
  },
  "language_info": {
   "codemirror_mode": {
    "name": "ipython",
    "version": 3
   },
   "file_extension": ".py",
   "mimetype": "text/x-python",
   "name": "python",
   "nbconvert_exporter": "python",
   "pygments_lexer": "ipython3",
   "version": "3.9.7"
  },
  "orig_nbformat": 2
 },
 "nbformat": 4,
 "nbformat_minor": 2
}
