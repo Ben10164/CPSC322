{
 "cells": [
  {
   "cell_type": "markdown",
   "metadata": {},
   "source": [
    "Ben Puryear   \n",
    "CPSC 322-02  \n",
    "PA4-Simple-Classifiers  \n",
    "Sources: [For the conclusion](https://towardsdatascience.com/comparative-study-on-classic-machine-learning-algorithms-24f9ff6ab222)"
   ]
  },
  {
   "cell_type": "code",
   "execution_count": 1,
   "metadata": {},
   "outputs": [],
   "source": [
    "# some useful mysklearn package import statements and reloads\n",
    "import importlib\n",
    "\n",
    "import mysklearn.myutils\n",
    "importlib.reload(mysklearn.myutils)\n",
    "\n",
    "# uncomment once you paste your mypytable.py into mysklearn package\n",
    "import mysklearn.mypytable\n",
    "importlib.reload(mysklearn.mypytable)\n",
    "from mysklearn.mypytable import MyPyTable \n",
    "\n",
    "import mysklearn.myclassifiers\n",
    "importlib.reload(mysklearn.myclassifiers)\n",
    "from mysklearn.myclassifiers import MySimpleLinearRegressionClassifier,\\\n",
    "    MyKNeighborsClassifier,\\\n",
    "    MyDummyClassifier"
   ]
  },
  {
   "cell_type": "markdown",
   "metadata": {},
   "source": [
    "The first thing that we are going to do is Step 0:  \n",
    "But even before Step 0 we need to load the data into a MyPyTable"
   ]
  },
  {
   "cell_type": "code",
   "execution_count": 2,
   "metadata": {},
   "outputs": [],
   "source": [
    "importlib.reload(mysklearn.mypytable)\n",
    "\n",
    "infile_path = \"input_data/auto-data-removed-NA.txt\"\n",
    "auto_data = MyPyTable()\n",
    "auto_data.load_from_file(infile_path)\n",
    "auto_data.convert_to_numeric()"
   ]
  },
  {
   "cell_type": "markdown",
   "metadata": {},
   "source": [
    "First, seed your random number generator. Then select 5 random instances from the dataset to form your test set. The dataset minus these 5 instances form the training set. **Use this same pair of train/test sets for each of the following steps.**"
   ]
  },
  {
   "cell_type": "code",
   "execution_count": 3,
   "metadata": {},
   "outputs": [],
   "source": [
    "import numpy as np\n",
    "np.random.seed(0)\n",
    "\n",
    "num_test = 5\n",
    "X_test = []\n",
    "\n",
    "test_indices = []\n",
    "for i in range(num_test):\n",
    "    rand_index =np.random.randint(0,len(auto_data.data))\n",
    "    test_indices.append(rand_index)\n",
    "    X_test.append(auto_data.data[i])\n",
    "    auto_data.drop_rows([rand_index])"
   ]
  },
  {
   "cell_type": "markdown",
   "metadata": {},
   "source": [
    "### Step 1 Train/Test Sets: Random Instances and Linear Regression\n",
    "\n",
    "see [mysklearn/myutils.py](myutils.ipynb) for the code for the classifier"
   ]
  },
  {
   "cell_type": "code",
   "execution_count": 4,
   "metadata": {},
   "outputs": [],
   "source": [
    "importlib.reload(mysklearn.myutils)\n",
    "\n",
    "def discretizer (x):\n",
    "    \"\"\"\n",
    "    Discretize the continuous variable x\n",
    "    \"\"\"\n",
    "    discretized_list = []\n",
    "    for val in x:\n",
    "        discretized_list.append(mysklearn.myutils.get_mpg_rating(val))\n",
    "    return discretized_list"
   ]
  },
  {
   "cell_type": "code",
   "execution_count": 5,
   "metadata": {},
   "outputs": [],
   "source": [
    "y_test = []\n",
    "for X in X_test:\n",
    "    y_test.append(X[0])\n",
    "y_test = discretizer(y_test)\n",
    "\n",
    "X_train = auto_data.data\n",
    "y_train = auto_data.get_column(\"mpg\")"
   ]
  },
  {
   "cell_type": "code",
   "execution_count": 6,
   "metadata": {},
   "outputs": [],
   "source": [
    "importlib.reload(mysklearn.myclassifiers)\n",
    "\n",
    "lin_reg_classifier = MySimpleLinearRegressionClassifier(discretizer)\n",
    "lin_reg_classifier.fit(X_train, y_train)\n",
    "lin_reg_predicted = lin_reg_classifier.predict(X_test)\n",
    "\n",
    "# find the accuracy\n",
    "accuracy = 0\n",
    "for i in range(len(lin_reg_predicted)):\n",
    "    if lin_reg_predicted[i] == y_test[i]:\n",
    "        accuracy += 1\n",
    "accuracy = accuracy / len(lin_reg_predicted)"
   ]
  },
  {
   "cell_type": "code",
   "execution_count": 7,
   "metadata": {},
   "outputs": [
    {
     "name": "stdout",
     "output_type": "stream",
     "text": [
      "===========================================\n",
      "STEP 1: Linear Regression MPG Classifier\n",
      "===========================================\n",
      "instance: [ [18.0, 8.0, 307.0, 130.0, 3504.0, 12.0, 70.0, 1.0, 'chevrolet chevelle malibu', 2881.0] ]\n",
      "class: 4 actual: 4\n",
      "instance: [ [15.0, 8.0, 350.0, 165.0, 3693.0, 11.5, 70.0, 1.0, 'buick skylark 320', 2847.0] ]\n",
      "class: 3 actual: 3\n",
      "instance: [ [18.0, 8.0, 318.0, 150.0, 3436.0, 11.0, 70.0, 1.0, 'plymouth satellite', 2831.0] ]\n",
      "class: 4 actual: 4\n",
      "instance: [ [16.0, 8.0, 304.0, 150.0, 3433.0, 12.0, 70.0, 1.0, 'amc rebel sst', 4112.573033707865] ]\n",
      "class: 3 actual: 3\n",
      "instance: [ [17.0, 8.0, 302.0, 140.0, 3449.0, 10.5, 70.0, 1.0, 'ford torino', 2778.0] ]\n",
      "class: 4 actual: 4\n",
      "accuracy: 1.0\n"
     ]
    }
   ],
   "source": [
    "print(\"\"\"===========================================\n",
    "STEP 1: Linear Regression MPG Classifier\n",
    "===========================================\"\"\")\n",
    "\n",
    "for instance in X_test:\n",
    "    print(\"instance: [\",instance,\"]\\nclass:\",\n",
    "    lin_reg_predicted[X_test.index(instance)],\"actual:\",\n",
    "    y_test[X_test.index(instance)])\n",
    "print(\"accuracy:\",accuracy)"
   ]
  },
  {
   "cell_type": "markdown",
   "metadata": {},
   "source": [
    "### Step 2 Train/Test Sets: Random Instances and kNN"
   ]
  },
  {
   "cell_type": "code",
   "execution_count": 8,
   "metadata": {},
   "outputs": [],
   "source": [
    "# we are reusing the same X_test, y_test, X_train, and y_train\n",
    "X_train2 = []\n",
    "for instance in X_train:\n",
    "    temp = []\n",
    "    temp.append(instance[1])\n",
    "    temp.append(instance[4])\n",
    "    temp.append(instance[5])\n",
    "\n",
    "    X_train2.append(temp)\n",
    "\n",
    "X_test2 = []\n",
    "for instance in X_test:\n",
    "    temp = []\n",
    "    temp.append(instance[1])\n",
    "    temp.append(instance[4])\n",
    "    temp.append(instance[5])\n",
    "\n",
    "    X_test2.append(temp)"
   ]
  },
  {
   "cell_type": "code",
   "execution_count": 9,
   "metadata": {},
   "outputs": [],
   "source": [
    "importlib.reload(mysklearn.myclassifiers)\n",
    "importlib.reload(mysklearn.myutils)\n",
    "\n",
    "knn_classifier = MyKNeighborsClassifier(5)\n",
    "\n",
    "knn_classifier.fit(X_train2, y_train)\n",
    "knn_predicted = []\n",
    "for instance in X_test2:\n",
    "    knn_predicted.append(knn_classifier.predict(instance))\n",
    "\n",
    "knn_predicted_classified = []\n",
    "for instance in knn_predicted:\n",
    "    knn_predicted_classified.append(mysklearn.myutils.get_mpg_rating(instance[0]))\n",
    "\n",
    "# find the accuracy\n",
    "accuracy = 0\n",
    "for i in range(len(knn_predicted_classified)):\n",
    "    if knn_predicted_classified[i] == y_test[i]:\n",
    "        accuracy += 1\n",
    "accuracy = accuracy / len(knn_predicted_classified)"
   ]
  },
  {
   "cell_type": "code",
   "execution_count": 10,
   "metadata": {},
   "outputs": [
    {
     "name": "stdout",
     "output_type": "stream",
     "text": [
      "===========================================\n",
      "STEP 2: k=5 Nearest Neighbors MPG Classifier\n",
      "===========================================\n",
      "instance: [ [18.0, 8.0, 307.0, 130.0, 3504.0, 12.0, 70.0, 1.0, 'chevrolet chevelle malibu', 2881.0] ]\n",
      "class: 4 actual: 4\n",
      "instance: [ [15.0, 8.0, 350.0, 165.0, 3693.0, 11.5, 70.0, 1.0, 'buick skylark 320', 2847.0] ]\n",
      "class: 3 actual: 3\n",
      "instance: [ [18.0, 8.0, 318.0, 150.0, 3436.0, 11.0, 70.0, 1.0, 'plymouth satellite', 2831.0] ]\n",
      "class: 4 actual: 4\n",
      "instance: [ [16.0, 8.0, 304.0, 150.0, 3433.0, 12.0, 70.0, 1.0, 'amc rebel sst', 4112.573033707865] ]\n",
      "class: 3 actual: 3\n",
      "instance: [ [17.0, 8.0, 302.0, 140.0, 3449.0, 10.5, 70.0, 1.0, 'ford torino', 2778.0] ]\n",
      "class: 4 actual: 4\n",
      "accuracy: 1.0\n"
     ]
    }
   ],
   "source": [
    "print(\"\"\"===========================================\n",
    "STEP 2: k=5 Nearest Neighbors MPG Classifier\n",
    "===========================================\"\"\")\n",
    "\n",
    "for i in range(len(knn_predicted_classified)):\n",
    "    print(\"instance: [\",X_test[i],\"]\\nclass:\",\n",
    "    knn_predicted_classified[i],\"actual:\",\n",
    "    y_test[i])\n",
    "print(\"accuracy:\",accuracy)"
   ]
  },
  {
   "cell_type": "markdown",
   "metadata": {},
   "source": [
    "### Step 3 Train/Test Sets: Random Instances and Dummy Classification"
   ]
  },
  {
   "cell_type": "code",
   "execution_count": 11,
   "metadata": {},
   "outputs": [],
   "source": [
    "new_y_train = []\n",
    "for i in range(len(y_train)):\n",
    "    new_y_train.append(mysklearn.myutils.get_mpg_rating(y_train[i]))"
   ]
  },
  {
   "cell_type": "code",
   "execution_count": 12,
   "metadata": {},
   "outputs": [],
   "source": [
    "importlib.reload(mysklearn.myclassifiers)\n",
    "importlib.reload(mysklearn.myutils)\n",
    "\n",
    "dummy = MyDummyClassifier()\n",
    "dummy.fit(X_train, new_y_train)\n",
    "dummy_predicted = []\n",
    "for instance in X_test:\n",
    "    dummy_predicted.append(dummy.predict(str(mysklearn.myutils.get_mpg_rating(instance[0]))))\n",
    "\n",
    "dummy_predicted_formated = []\n",
    "for instance in dummy_predicted:\n",
    "    dummy_predicted_formated.append(instance[0])\n",
    "\n",
    "# find the accuracy\n",
    "accuracy = 0\n",
    "for i in range(len(dummy_predicted_formated)):\n",
    "    if dummy_predicted_formated[i] == y_test[i]:\n",
    "        accuracy += 1\n",
    "accuracy = accuracy / len(dummy_predicted_formated)"
   ]
  },
  {
   "cell_type": "code",
   "execution_count": 13,
   "metadata": {},
   "outputs": [
    {
     "name": "stdout",
     "output_type": "stream",
     "text": [
      "===========================================\n",
      "STEP 3: (Zero-R) Dummy MPG Classifier\n",
      "===========================================\n",
      "instance: [ [18.0, 8.0, 307.0, 130.0, 3504.0, 12.0, 70.0, 1.0, 'chevrolet chevelle malibu', 2881.0] ]\n",
      "class: 4 actual: 4\n",
      "instance: [ [15.0, 8.0, 350.0, 165.0, 3693.0, 11.5, 70.0, 1.0, 'buick skylark 320', 2847.0] ]\n",
      "class: 4 actual: 3\n",
      "instance: [ [18.0, 8.0, 318.0, 150.0, 3436.0, 11.0, 70.0, 1.0, 'plymouth satellite', 2831.0] ]\n",
      "class: 4 actual: 4\n",
      "instance: [ [16.0, 8.0, 304.0, 150.0, 3433.0, 12.0, 70.0, 1.0, 'amc rebel sst', 4112.573033707865] ]\n",
      "class: 4 actual: 3\n",
      "instance: [ [17.0, 8.0, 302.0, 140.0, 3449.0, 10.5, 70.0, 1.0, 'ford torino', 2778.0] ]\n",
      "class: 4 actual: 4\n",
      "accuracy: 0.6\n"
     ]
    }
   ],
   "source": [
    "print(\"\"\"===========================================\n",
    "STEP 3: (Zero-R) Dummy MPG Classifier\n",
    "===========================================\"\"\")\n",
    "\n",
    "for i in range(len(dummy_predicted_formated)):\n",
    "    print(\"instance: [\",X_test[i],\"]\\nclass:\",\n",
    "    dummy_predicted_formated[i],\"actual:\",\n",
    "    y_test[i])\n",
    "print(\"accuracy:\",accuracy)"
   ]
  },
  {
   "cell_type": "markdown",
   "metadata": {},
   "source": [
    "### Step 4 Classifier Comparison: Linear Regression vs kNN vs Dummy\n",
    "As we can see from the results, the dummy classifier performs the worst, while the kNN and linear regression perform much better. Out of the two, kNN appears to perform better than the linear regression. This is because the kNN classifier is a non-parametric classifier, while the linear regression classifier is a parametric classifier, with the dataset not necessarily being linearly separable."
   ]
  }
 ],
 "metadata": {
  "kernelspec": {
   "display_name": "Python 3",
   "language": "python",
   "name": "python3"
  },
  "language_info": {
   "codemirror_mode": {
    "name": "ipython",
    "version": 3
   },
   "file_extension": ".py",
   "mimetype": "text/x-python",
   "name": "python",
   "nbconvert_exporter": "python",
   "pygments_lexer": "ipython3",
   "version": "3.9.10"
  }
 },
 "nbformat": 4,
 "nbformat_minor": 4
}
