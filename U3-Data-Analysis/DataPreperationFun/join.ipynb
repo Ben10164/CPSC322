{
 "cells": [
  {
   "cell_type": "markdown",
   "metadata": {},
   "source": [
    "# Joins"
   ]
  },
  {
   "cell_type": "markdown",
   "metadata": {},
   "source": [
    "* Key: 1 or more attributes that uniquely identifies rows (instances)\n",
    "* Foreign key: a key that references rows (typically in other tables)\n",
    "* Join: Combining 2 tables on {key : foreign key} pairs"
   ]
  },
  {
   "cell_type": "markdown",
   "metadata": {},
   "source": [
    "## Types of Joins:"
   ]
  },
  {
   "cell_type": "markdown",
   "metadata": {},
   "source": [
    "### Inner join:\n",
    "* Combines two tables on key matches (key : foreign key) to produce a third table  \n",
    "\n",
    "Pseudocode:\n",
    "```python\n",
    "for row in table_1:\n",
    "    for row in table_2:\n",
    "        # check to see if they match on key\n",
    "        if(\"a key in table_2 match on key/foreign-key\"):\n",
    "            new_table.append(row)\n",
    "```"
   ]
  },
  {
   "cell_type": "markdown",
   "metadata": {},
   "source": [
    "### Outer join:\n",
    "* Full outer join combines two tables on key matches **and** non matches to produce a third table\n",
    "\n",
    "Pseudocode:\n",
    "```python\n",
    "for row in table_1:\n",
    "    for row in table_2:\n",
    "        if(\"a key in table_2 match on key/foreign-key\"):\n",
    "            new_table.append(row)\n",
    "    if(\"no match\"):\n",
    "        # fill missing table_2 values w/ \"NA\" in the row, then add it\n",
    "for row in table_2:\n",
    "    if(\"no match for this row in the join table\"):\n",
    "        # fill missing table_1 values w/ \"NA\" in the row, then add it\n",
    "```"
   ]
  },
  {
   "cell_type": "code",
   "execution_count": 11,
   "metadata": {},
   "outputs": [],
   "source": [
    "header_1 = [\"CarName\", \"ModelYear\", \"MSRP\"]\n",
    "table_1 = [\n",
    "    [\"ford pinto\", 75, 2769],\n",
    "    [\"toyota corolla\", 75, 2711],\n",
    "    [\"ford pinto\", 76, 3025],\n",
    "    [\"toyota corolla\", 77, 2789],\n",
    "]\n",
    "\n",
    "header_2 = [\"SaleId\", \"EmployeeId\", \"CarName\", \"ModelYear\", \"Amt\"]\n",
    "table_2 = [\n",
    "    [555, 12, \"ford pinto\", 75, 3076],\n",
    "    [556, 12, \"toyota corolla\", 75, 2611],\n",
    "    [998, 13, \"toyota corolla\", 75, 2800],\n",
    "    [999, 12, \"toyota corolla\", 76, 2989],\n",
    "]"
   ]
  }
 ],
 "metadata": {
  "interpreter": {
   "hash": "5f8c5c8ab154ffd7b7cf769370d90abd279d12a3d937a702f83e9fc02204b3d3"
  },
  "kernelspec": {
   "display_name": "Python 3.9.9 64-bit ('base': conda)",
   "language": "python",
   "name": "python3"
  },
  "language_info": {
   "codemirror_mode": {
    "name": "ipython",
    "version": 3
   },
   "file_extension": ".py",
   "mimetype": "text/x-python",
   "name": "python",
   "nbconvert_exporter": "python",
   "pygments_lexer": "ipython3",
   "version": "3.9.10"
  },
  "orig_nbformat": 4
 },
 "nbformat": 4,
 "nbformat_minor": 2
}
