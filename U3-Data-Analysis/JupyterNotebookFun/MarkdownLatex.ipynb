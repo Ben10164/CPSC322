{
 "cells": [
  {
   "cell_type": "code",
   "execution_count": 1,
   "metadata": {},
   "outputs": [
    {
     "name": "stdout",
     "output_type": "stream",
     "text": [
      "Hello Jupyter!!\n"
     ]
    }
   ],
   "source": [
    "print(\"Hello Jupyter!!\")"
   ]
  },
  {
   "cell_type": "markdown",
   "metadata": {},
   "source": [
    "This is a markdown cell  \n",
    "markdown is a markup language like HTML"
   ]
  },
  {
   "cell_type": "code",
   "execution_count": 2,
   "metadata": {},
   "outputs": [
    {
     "name": "stdout",
     "output_type": "stream",
     "text": [
      "More to come next class\n"
     ]
    }
   ],
   "source": [
    "print(\"More to come next class\")"
   ]
  },
  {
   "cell_type": "markdown",
   "metadata": {},
   "source": [
    "# Level 1 header\n",
    "## Level 2 header\n",
    "### Level 3 header\n",
    "..."
   ]
  },
  {
   "cell_type": "markdown",
   "metadata": {},
   "source": [
    "## Lists\n",
    "Unordered list:\n",
    "* this is a bullet\n",
    "* point\n",
    "* yay\n",
    "\n",
    "Ordered list:\n",
    "1. Item 1\n",
    "1. Item 2\n",
    "1. Item 3\n",
    "\n",
    "We can also mix types\n",
    "* There are different ways to edit a Jupyter Notebook\n",
    "    1. VS Code w/Jupyter extension \n",
    "    1. Jupyter Notebook (kind of oldschool)\n",
    "    1. Jupyter Lab\n",
    "        * The better replacement for Jupyter Notebook\n",
    "    1. Google Colab"
   ]
  },
  {
   "cell_type": "markdown",
   "metadata": {},
   "source": [
    "## Links and Images\n",
    "I highly encourage you to do this markdown tutorial: https://www.markdowntutorial.com  \n",
    "I highly encourage you to do [this markdown tutorial](https://www.markdowntutorial.com)\n",
    "\n",
    "Images:  \n",
    "![alt text](https://cdn.foliovision.com/images/2017/03/i-love-markdown.png)\n",
    "\n",
    "Drop down to HTML to resize the image:  \n",
    "<img src=\"https://cdn.foliovision.com/images/2017/03/i-love-markdown.png\" width=\"300\">"
   ]
  },
  {
   "cell_type": "markdown",
   "metadata": {},
   "source": [
    "## Tables\n",
    "ModelYear|CarName|MSRP\n",
    "-|-|-\n",
    "75|ford pinto|1111\n",
    "76|toyota corolla|222"
   ]
  },
  {
   "cell_type": "markdown",
   "metadata": {},
   "source": [
    "## Latex Math Mode\n",
    "Inline math mode: $y = mx+b$  \n",
    "Block (centered) math mode: $$y=mx+b$$\n",
    "Subscripts: $x_{5} + y_3$  \n",
    "Superscripts: $x^{6+1} - y^2$  \n",
    "Symbols over characters: $\\overline{x+1}$ $\\widehat{x+1}$  \n",
    "Specific symbols: $\\mu \\sigma \\pi \\Pi \\cup \\cap \\forall \\times$  \n",
    "Summation notation: $\\sum_{i=1}^{n} x_i$  \n",
    "Fractions: $\\frac{1}{x+2}$  \n",
    "Square root: $\\sqrt{x+y+z}$\n",
    "\n",
    "Task: Typeset the formulas for (population) mean and standard deviation    \n",
    "$\\mu = \\frac{\\sum x}{n}$  \n",
    "$\\sigma = \\sqrt{\\frac{\\sum(x-\\mu)^2}{n}}$"
   ]
  }
 ],
 "metadata": {
  "interpreter": {
   "hash": "5f8c5c8ab154ffd7b7cf769370d90abd279d12a3d937a702f83e9fc02204b3d3"
  },
  "kernelspec": {
   "display_name": "Python 3.9.9 64-bit ('base': conda)",
   "language": "python",
   "name": "python3"
  },
  "language_info": {
   "codemirror_mode": {
    "name": "ipython",
    "version": 3
   },
   "file_extension": ".py",
   "mimetype": "text/x-python",
   "name": "python",
   "nbconvert_exporter": "python",
   "pygments_lexer": "ipython3",
   "version": "3.9.10"
  },
  "orig_nbformat": 4
 },
 "nbformat": 4,
 "nbformat_minor": 2
}
