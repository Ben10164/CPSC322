{
 "cells": [
  {
   "cell_type": "markdown",
   "id": "6a81313b-aa83-44dc-a3be-d006ec4378af",
   "metadata": {},
   "source": [
    "# To start Jupyter Lab:"
   ]
  },
  {
   "cell_type": "markdown",
   "id": "30c93e13-1922-4b00-a909-e5ecd25f9722",
   "metadata": {},
   "source": [
    "`$ jupyter lab --ip='0.0.0.0' --port=8888 --no-browser --allow-root --notebook-dir=/home`"
   ]
  },
  {
   "cell_type": "markdown",
   "id": "7754ba6c-d33a-49e5-bdc5-4ebb30ffef8a",
   "metadata": {},
   "source": [
    "Then it will output 2 addresses. Use the second one:   \n",
    "e.g. `http://127.0.0.1:8888/lab?token=30799a1dd0c66824047fafecf7bcde7ad553f5999a26384b`"
   ]
  },
  {
   "cell_type": "markdown",
   "id": "18ffb7f4-3160-416a-9c42-5c6818a6f9b6",
   "metadata": {},
   "source": [
    "NOTE: It is best if before you do this to `CD` to the CPSC322 folder"
   ]
  }
 ],
 "metadata": {
  "kernelspec": {
   "display_name": "Python 3 (ipykernel)",
   "language": "python",
   "name": "python3"
  },
  "language_info": {
   "codemirror_mode": {
    "name": "ipython",
    "version": 3
   },
   "file_extension": ".py",
   "mimetype": "text/x-python",
   "name": "python",
   "nbconvert_exporter": "python",
   "pygments_lexer": "ipython3",
   "version": "3.9.7"
  }
 },
 "nbformat": 4,
 "nbformat_minor": 5
}
