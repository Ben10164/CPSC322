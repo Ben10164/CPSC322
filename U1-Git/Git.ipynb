{
 "cells": [
  {
   "cell_type": "markdown",
   "metadata": {},
   "source": [
    "# What is it?\n",
    "* Git is a version control utility to monitor changes in a repository\n",
    "* A repository is a folder under version control\n",
    "* Version control is a way to track individual changes to a file, rather than saving full copies\n",
    "* Github is an online interactive way to upload git repositories\n",
    "* Pushing is uploading a commit to an online repository (like a github stored git repository)\n",
    "* A commit is a save point of all staged files at the time in a repository\n",
    "* A staged file is a file that is added to a commit, prepping to be commited and pushed"
   ]
  }
 ],
 "metadata": {
  "interpreter": {
   "hash": "d4d1e4263499bec80672ea0156c357c1ee493ec2b1c70f0acce89fc37c4a6abe"
  },
  "kernelspec": {
   "display_name": "Python 3.9.7 64-bit ('base': conda)",
   "language": "python",
   "name": "python3"
  },
  "language_info": {
   "name": "python",
   "version": "3.9.7"
  },
  "orig_nbformat": 4
 },
 "nbformat": 4,
 "nbformat_minor": 2
}
