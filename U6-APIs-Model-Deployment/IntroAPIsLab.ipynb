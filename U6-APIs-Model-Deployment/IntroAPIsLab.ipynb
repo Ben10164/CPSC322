{
 "cells": [
  {
   "cell_type": "markdown",
   "metadata": {},
   "source": [
    "1. Datascientists can utilize data from a variety of sources. One classification of sources:\n",
    "    * static datasource: a data source that doesn't update its contents, (e.g. a csv file on your hard drive)\n",
    "    * dynamic datasource: a data source that provides up-to-date data when requested. Examples:\n",
    "        * query a database\n",
    "        * request data from an API\n",
    "        * scrape from a website\n",
    "2. API: Application Programming Interface\n",
    "    * A set of functions that a programmer can use without needing to know the implementation (e.g. Pythons random moduel)\n",
    "    * Web API: a set of endpoints( functions) that are hosted on a server listening for requests from a client (e.g. iTunes Search API)\n",
    "        * like an http GET request\n",
    "        * response is usually in the JSON format\n",
    "3. Parts of the URL: https://itunes.apple.com/search?term=thor&media=movie\n",
    "    * https \n",
    "        - the protocol\n",
    "    * itunes.apple.com \n",
    "        - the subdomain (itunes) \n",
    "        - the domain (apple.com)\n",
    "    * search\n",
    "        - the endpoint (search)\n",
    "    * ?term=thor&media=movie\n",
    "        - the query string (usually a set of key value pairs)\n",
    "            * term=thor\n",
    "                - the key (term)\n",
    "                - the value (thor)\n",
    "            * & \n",
    "                - the separator of the key value pairs\n",
    "            * media=movie\n",
    "                - the key (media)\n",
    "                - the value (movie)"
   ]
  }
 ],
 "metadata": {
  "language_info": {
   "name": "python"
  },
  "orig_nbformat": 4
 },
 "nbformat": 4,
 "nbformat_minor": 2
}
