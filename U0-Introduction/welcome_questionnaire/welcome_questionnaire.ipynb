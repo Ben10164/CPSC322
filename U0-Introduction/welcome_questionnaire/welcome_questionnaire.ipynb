{
 "cells": [
  {
   "cell_type": "code",
   "execution_count": 1,
   "metadata": {},
   "outputs": [],
   "source": [
    "# import module (library) dependencies so we can use their classes and functions\n",
    "import pandas as pd\n",
    "import matplotlib.pyplot as plt\n",
    "import seaborn as sns "
   ]
  },
  {
   "cell_type": "code",
   "execution_count": 2,
   "metadata": {},
   "outputs": [
    {
     "name": "stdout",
     "output_type": "stream",
     "text": [
      "          Python  Command Line  Git/Github     Docker\n",
      "count  34.000000     34.000000   34.000000  34.000000\n",
      "mean    3.088235      3.852941    4.029412   1.235294\n",
      "std     1.239933      0.821394    0.758199   0.654070\n",
      "min     1.000000      2.000000    3.000000   1.000000\n",
      "25%     2.000000      3.000000    3.250000   1.000000\n",
      "50%     3.000000      4.000000    4.000000   1.000000\n",
      "75%     4.000000      4.000000    5.000000   1.000000\n",
      "max     5.000000      5.000000    5.000000   4.000000\n"
     ]
    }
   ],
   "source": [
    "# open the CSV file and load its data into a Pandas Dataframe\n",
    "dataframe = pd.read_csv(\"welcome_questionnaire.csv\")\n",
    "dataframe.fillna(3, inplace=True) # fill with middle value\n",
    "# this is a cool feature of a pandas dataframe where you can quickly see a summary of the frame\n",
    "print(dataframe.describe())"
   ]
  },
  {
   "cell_type": "code",
   "execution_count": 3,
   "metadata": {},
   "outputs": [],
   "source": [
    "# unpivot 4 dataframe columns into long format\n",
    "dataframe = dataframe.melt(var_name=\"Experience\", value_name=\"Likert Response\")"
   ]
  },
  {
   "cell_type": "code",
   "execution_count": 4,
   "metadata": {},
   "outputs": [
    {
     "data": {
      "text/plain": [
       "Text(10.050000000000011, 0.5, 'Student Count')"
      ]
     },
     "execution_count": 4,
     "metadata": {},
     "output_type": "execute_result"
    },
    {
     "data": {
      "image/png": "[encoded data removed]",
      "text/plain": [
       "<Figure size 864x216 with 4 Axes>"
      ]
     },
     "metadata": {
      "needs_background": "light"
     },
     "output_type": "display_data"
    }
   ],
   "source": [
    "# plot each experience on its own axis in a grid using Seaborn\n",
    "g = sns.FacetGrid(dataframe, col=\"Experience\", hue=\"Experience\")\n",
    "g.map(sns.histplot, \"Likert Response\", bins=[1, 2, 3, 4, 5, 6])\n",
    "g.set(xticks=[1.5, 2.5, 3.5, 4.5, 5.5], xticklabels=[\"1\", \"2\", \"3\", \"4\", \"5\"])\n",
    "g.axes[0,0].set_ylabel(\"Student Count\")"
   ]
  },
  {
   "cell_type": "code",
   "execution_count": 5,
   "metadata": {},
   "outputs": [
    {
     "data": {
      "text/plain": [
       "<Figure size 432x288 with 0 Axes>"
      ]
     },
     "metadata": {},
     "output_type": "display_data"
    }
   ],
   "source": [
    "# save to a file\n",
    "plt.tight_layout()\n",
    "plt.savefig(\"322_experience_sns.png\")"
   ]
  }
 ],
 "metadata": {
  "interpreter": {
   "hash": "5f8c5c8ab154ffd7b7cf769370d90abd279d12a3d937a702f83e9fc02204b3d3"
  },
  "kernelspec": {
   "display_name": "Python 3.9.9 64-bit ('base': conda)",
   "language": "python",
   "name": "python3"
  },
  "language_info": {
   "codemirror_mode": {
    "name": "ipython",
    "version": 3
   },
   "file_extension": ".py",
   "mimetype": "text/x-python",
   "name": "python",
   "nbconvert_exporter": "python",
   "pygments_lexer": "ipython3",
   "version": "3.9.9"
  },
  "orig_nbformat": 4
 },
 "nbformat": 4,
 "nbformat_minor": 2
}
