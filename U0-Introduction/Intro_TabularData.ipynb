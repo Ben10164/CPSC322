{
 "cells": [
  {
   "cell_type": "markdown",
   "metadata": {},
   "source": [
    "# What is Data Science?\n",
    "* You dont realize how much you use technology\n",
    "    * Technology is unavoidable and pervasive\n",
    "* Data Science is using data to draw conclusions, and/or make decisions about the data\n",
    "* Companies will pay alot of money to generate insights to data\n",
    "* Data Science is relativley new\n",
    "    * It is the sequel to statistics"
   ]
  },
  {
   "cell_type": "markdown",
   "metadata": {},
   "source": [
    "## So why Python?\n",
    "* We use Python because:\n",
    "    * lots of great packages for Data Science\n",
    "        * numpy/scipy/pandas\n",
    "        * matplotlib/seaborn\n",
    "        * scikitlearn/tensorflow/pytorch\n",
    "    * easy to learn/write/learn\n",
    "    * free\n",
    "    * a language that can be used for proof of concept/prototype/production\n",
    "* What kind of data do data scientists analyze?\n",
    "    * structured\n",
    "        * it can be written in rows and cols\n",
    "            * tabular\n",
    "            * like an excel spreedsheet\n",
    "        * rows AKA instance AKA sample/observation AKA record AKA object\n",
    "        * cols AKA attribute/features AKA variable AKA field\n"
   ]
  },
  {
   "cell_type": "markdown",
   "metadata": {},
   "source": [
    "## Terms for tabular data\n",
    "* Dataset\n",
    "    * One or more tables sampled from the __universe of instances__\n",
    "* Key\n",
    "    * One or more attributes that uniquely identify instances\n",
    "        * Kind of like a userid, or unique id\n",
    "        * If there is not a key, we can always add a key (the row number, either 0 or 1 based)\n",
    "* Structured Data\n",
    "    * it can be written in rows and cols\n",
    "        * tabular\n",
    "        * like an excel spreedsheet\n",
    "    * rows AKA instance AKA sample/observation AKA record AKA object\n",
    "    * cols AKA attribute/features AKA variable AKA field\n"
   ]
  }
 ],
 "metadata": {
  "interpreter": {
   "hash": "31f2aee4e71d21fbe5cf8b01ff0e069b9275f58929596ceb00d14d90e3e16cd6"
  },
  "kernelspec": {
   "display_name": "Python 3.8.9 64-bit",
   "language": "python",
   "name": "python3"
  },
  "language_info": {
   "name": "python",
   "version": "3.9.9"
  },
  "orig_nbformat": 4
 },
 "nbformat": 4,
 "nbformat_minor": 2
}
